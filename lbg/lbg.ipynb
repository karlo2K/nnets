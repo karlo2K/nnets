{
 "cells": [
  {
   "cell_type": "code",
   "execution_count": 19,
   "metadata": {},
   "outputs": [],
   "source": [
    "import numpy as np"
   ]
  },
  {
   "cell_type": "code",
   "execution_count": 155,
   "metadata": {},
   "outputs": [],
   "source": [
    "class LBG:\n",
    "    def __init__(self, n_clusters, epsilon=0.00001):\n",
    "        self.n_clusters=n_clusters\n",
    "        self.epsilon=epsilon\n",
    "\n",
    "    def _get_init_cb(self, data):\n",
    "        return np.array([np.mean(data, axis=0)])\n",
    "\n",
    "    def _create_codebook(self, data, e):\n",
    "        return data * (1.0 + e)\n",
    "\n",
    "    def _average_distortion(self, data, codebook, idx):\n",
    "        return np.mean([np.linalg.norm(data - codebook[i], axis=1) ** 2 for i in idx])\n",
    "\n",
    "    def _split_codebook(self, data, codebook, init_distortion):\n",
    "        tmp_cbs = np.empty((0, self.n_features))\n",
    "        for i in range(2):\n",
    "            tmp_cbs = np.append(tmp_cbs, self._create_codebook(codebook, (-1)**i * self.epsilon), axis=0)\n",
    "\n",
    "        codebook = np.copy(tmp_cbs)\n",
    "        distortion = init_distortion\n",
    "        err = 1.0 + self.epsilon;\n",
    "\n",
    "        while err > self.epsilon:\n",
    "            norms = np.array([np.linalg.norm(data - c, axis=1)**2 for c in codebook])\n",
    "            idx_min = np.argmin(norms, axis=0)\n",
    "            idx_map = np.zeros((self.N, len(codebook)))\n",
    "            idx_map[range(len(data)), idx_min] = 1\n",
    "\n",
    "            s = (np.sum(idx_map, axis=0, dtype=float)+1e-16).reshape(len(codebook), -1)\n",
    "            codebook = np.dot(idx_map.T, data) / s\n",
    "\n",
    "            prev_distortion = distortion\n",
    "            distortion = self._average_distortion(data, codebook, idx_min)\n",
    "            err = (prev_distortion - distortion) / distortion\n",
    "\n",
    "        return codebook, idx_min\n",
    "\n",
    "    def fit(self, data):\n",
    "        shape = data.shape\n",
    "        self.N = shape[0]\n",
    "        self.n_features=shape[1]\n",
    "        \n",
    "        codebook = self._get_init_cb(data)\n",
    "        distortion = self._average_distortion(data, codebook, np.array([[0]]))\n",
    "\n",
    "        while len(codebook) < self.n_clusters:\n",
    "            codebook, labels = self._split_codebook(data, codebook, distortion)\n",
    "            \n",
    "        self.cluster_centers=codebook\n",
    "\n",
    "        return labels\n",
    "\n",
    "    def predict(self, data):\n",
    "        norms = np.array([np.linalg.norm(data - c, axis=1)**2 for c in self.cluster_centers])\n",
    "        return np.argmin(norms, axis=0)"
   ]
  },
  {
   "cell_type": "code",
   "execution_count": 156,
   "metadata": {},
   "outputs": [],
   "source": [
    "from skimage.io import imread, imsave\n",
    "from sklearn.utils import shuffle\n",
    "import time"
   ]
  },
  {
   "cell_type": "code",
   "execution_count": 157,
   "metadata": {},
   "outputs": [],
   "source": [
    "img_path = 'face.png'\n",
    "img = imread(img_path)\n",
    "n_random=1000\n",
    "n_clusters = 64"
   ]
  },
  {
   "cell_type": "code",
   "execution_count": 158,
   "metadata": {},
   "outputs": [],
   "source": [
    "rows, cols, depth = img.shape\n",
    "img_vect = img.reshape(rows * cols, depth)\n",
    "img_train = shuffle(img_vect)[:n_random]"
   ]
  },
  {
   "cell_type": "code",
   "execution_count": 159,
   "metadata": {},
   "outputs": [],
   "source": [
    "lbg = LBG(n_clusters=n_clusters)"
   ]
  },
  {
   "cell_type": "code",
   "execution_count": 160,
   "metadata": {},
   "outputs": [],
   "source": [
    "start = time.time()\n",
    "lbg.fit(img_train)\n",
    "labels = lbg.predict(img_vect)\n",
    "labels = labels.reshape(rows, cols)\n",
    "end = time.time()"
   ]
  },
  {
   "cell_type": "code",
   "execution_count": 165,
   "metadata": {},
   "outputs": [],
   "source": [
    "imsave('cmprs_lbls.png', labels)\n",
    "np.save('cmprs_cntrs.npy', lbg.cluster_centers)"
   ]
  },
  {
   "cell_type": "code",
   "execution_count": 166,
   "metadata": {},
   "outputs": [],
   "source": [
    "centers = np.load('cmprs_cntrs.npy')\n",
    "labels = imread('cmprs_lbls.png')\n",
    "\n",
    "image = np.zeros((labels.shape[0], labels.shape[1], centers.shape[1]), dtype=np.uint8)\n",
    "for i in range(labels.shape[0]):\n",
    "    for j in range(labels.shape[1]):\n",
    "        image[i, j, :] = centers[labels[i, j], :]\n",
    "\n",
    "imsave('reconstructed.png', image)"
   ]
  },
  {
   "cell_type": "code",
   "execution_count": null,
   "metadata": {},
   "outputs": [],
   "source": []
  }
 ],
 "metadata": {
  "kernelspec": {
   "display_name": "Python 3",
   "language": "python",
   "name": "python3"
  },
  "language_info": {
   "codemirror_mode": {
    "name": "ipython",
    "version": 3
   },
   "file_extension": ".py",
   "mimetype": "text/x-python",
   "name": "python",
   "nbconvert_exporter": "python",
   "pygments_lexer": "ipython3",
   "version": "3.5.2"
  }
 },
 "nbformat": 4,
 "nbformat_minor": 2
}
